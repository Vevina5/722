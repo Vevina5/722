{
 "cells": [
  {
   "cell_type": "markdown",
   "metadata": {},
   "source": [
    "# Vevina (Ziwei) Liu, Iteration 4 for INFOSYS 722"
   ]
  },
  {
   "cell_type": "markdown",
   "metadata": {},
   "source": [
    "## package used"
   ]
  },
  {
   "cell_type": "markdown",
   "metadata": {},
   "source": [
    "findspark pyspark matplotlib numpy pandas"
   ]
  },
  {
   "cell_type": "markdown",
   "metadata": {},
   "source": [
    "# STEP 3: DATA PREPARATION"
   ]
  },
  {
   "cell_type": "code",
   "execution_count": null,
   "metadata": {},
   "outputs": [],
   "source": []
  },
  {
   "cell_type": "code",
   "execution_count": 1,
   "metadata": {},
   "outputs": [],
   "source": [
    "import matplotlib as plt\n",
    "import numpy as np"
   ]
  },
  {
   "cell_type": "code",
   "execution_count": 2,
   "metadata": {},
   "outputs": [],
   "source": [
    "# import dataset\n",
    "import findspark\n",
    "findspark.init('/home/ubuntu/spark-2.1.1-bin-hadoop2.7')\n",
    "from pyspark import SparkContext\n",
    "\n",
    "import pyspark\n",
    "from pyspark.sql import SparkSession\n",
    "from pyspark.sql import *\n",
    "spark = SparkSession.builder.appName('step_4to8').getOrCreate()\n",
    "df = spark.read.csv('/home/ubuntu/Iteration_4-Vevina_Liu/loanITERATION4.csv',header=True,inferSchema=True)"
   ]
  },
  {
   "cell_type": "code",
   "execution_count": 4,
   "metadata": {},
   "outputs": [
    {
     "name": "stdout",
     "output_type": "stream",
     "text": [
      "['id', 'member_id', 'loan_amnt', 'funded_amnt', 'funded_amnt_inv', 'term', 'int_rate', 'installment', 'grade', 'sub_grade', 'emp_title', 'emp_length', 'home_ownership', 'annual_inc', 'verification_status', 'issue_d', 'loan_status', 'pymnt_plan', 'url', 'desc', 'purpose', 'title', 'zip_code', 'addr_state', 'dti', 'delinq_2yrs', 'earliest_cr_line', 'inq_last_6mths', 'mths_since_last_delinq', 'mths_since_last_record', 'open_acc', 'pub_rec', 'revol_bal', 'revol_util', 'total_acc', 'initial_list_status', 'out_prncp', 'out_prncp_inv', 'total_pymnt', 'total_pymnt_inv', 'total_rec_prncp', 'total_rec_int', 'total_rec_late_fee', 'recoveries', 'collection_recovery_fee', 'last_pymnt_d', 'last_pymnt_amnt', 'next_pymnt_d', 'last_credit_pull_d', 'collections_12_mths_ex_med', 'mths_since_last_major_derog', 'policy_code', 'application_type', 'annual_inc_joint', 'dti_joint', 'verification_status_joint', 'acc_now_delinq', 'tot_coll_amt', 'tot_cur_bal', 'open_acc_6m', 'open_il_6m', 'open_il_12m', 'open_il_24m', 'mths_since_rcnt_il', 'total_bal_il', 'il_util', 'open_rv_12m', 'open_rv_24m', 'max_bal_bc', 'all_util', 'total_rev_hi_lim', 'inq_fi', 'total_cu_tl', 'inq_last_12m']\n"
     ]
    }
   ],
   "source": [
    "print(df.columns)"
   ]
  },
  {
   "cell_type": "markdown",
   "metadata": {},
   "source": [
    "## 3.1 Select the Data"
   ]
  },
  {
   "cell_type": "markdown",
   "metadata": {},
   "source": [
    "### Remove loan status that are irrelavant to the model"
   ]
  },
  {
   "cell_type": "code",
   "execution_count": 3,
   "metadata": {},
   "outputs": [
    {
     "name": "stdout",
     "output_type": "stream",
     "text": [
      "No. of Observations:  274390\n"
     ]
    }
   ],
   "source": [
    "# remove observations with loan_status == Does not meet the credit policy because no explanation about the types\n",
    "df = df[(df['loan_status'] != 'Does not meet the credit policy. Status:Fully Paid') & (df['loan_status'] != 'Does not meet the credit policy. Status:Charged Off')]\n",
    "# remove observations with loan_status == Current and Issued\n",
    "df = df[(df['loan_status'] != 'Current') & (df['loan_status'] != 'Issued')]\n",
    "print('No. of Observations: ', df.count())"
   ]
  },
  {
   "cell_type": "markdown",
   "metadata": {},
   "source": [
    "### Remove attributes with more than 600,000 missing values"
   ]
  },
  {
   "cell_type": "code",
   "execution_count": 4,
   "metadata": {},
   "outputs": [
    {
     "name": "stdout",
     "output_type": "stream",
     "text": [
      "No. of Observations:  274390\n",
      "No. of Attributes: 44\n"
     ]
    }
   ],
   "source": [
    "col_drop = ['inq_fi', 'total_cu_tl', 'inq_last_12m', 'open_acc_6m', 'open_il_6m', 'open_il_12m', 'open_il_24m', 'mths_since_rcnt_il', 'total_bal_il'] \n",
    "df = df.drop(*col_drop)\n",
    "col_drop = ['il_util', 'open_rv_12m', 'open_rv_24m' 'max_bal_bc', 'all_util', 'dti_joint', 'verification_status_joint', 'annual_inc_joint']\n",
    "df = df.drop(*col_drop)\n",
    "col_drop = ['desc','mths_since_last_delinq', 'mths_since_last_record', 'next_pymnt_d', 'mths_since_last_major_derog']\n",
    "df = df.drop(*col_drop)\n",
    "col_drop = ['policy_code', 'initial_list_status', 'zip_code', 'title', 'id', 'member_id', 'url', 'pymnt_plan', 'emp_title','earliest_cr_line', 'mths_since_last_record']\n",
    "df = df.drop(*col_drop)\n",
    "print('No. of Observations: ', df.count())\n",
    "print('No. of Attributes: ' + str(len(df.columns)))"
   ]
  },
  {
   "cell_type": "markdown",
   "metadata": {},
   "source": [
    "## 3.2 Clean the Data"
   ]
  },
  {
   "cell_type": "code",
   "execution_count": 5,
   "metadata": {},
   "outputs": [
    {
     "name": "stdout",
     "output_type": "stream",
     "text": [
      "loan_amnt: 13728.568825394512\n",
      "funded_amnt: 13691.057254273115\n",
      "funded_amnt_inv: 13604.775222564607\n",
      "int_rate: 13.922623346332443\n",
      "installment: 422.21407354494283\n",
      "annual_inc: 72494.5576672255\n",
      "dti: 16.786754983782167\n",
      "delinq_2yrs: 0.26362476766646015\n",
      "inq_last_6mths: 0.8507234228652648\n",
      "open_acc: 11.002190313058057\n",
      "pub_rec: 0.14920368818105617\n",
      "revol_bal: 15199.276941579503\n",
      "revol_util: 54.66881226361094\n",
      "total_acc: 25.056069827617623\n",
      "out_prncp: 911.0596984948427\n",
      "out_prncp_inv: 910.7145716680635\n",
      "total_pymnt: 13054.238917395372\n",
      "total_pymnt_inv: 12963.959092131752\n",
      "total_rec_prncp: 10918.294659936688\n",
      "total_rec_int: 1988.1273120375988\n",
      "total_rec_late_fee: 0.9196445804626208\n",
      "recoveries: 146.89730567961752\n",
      "collection_recovery_fee: 15.445522644048987\n",
      "last_pymnt_amnt: 5997.263386451085\n",
      "collections_12_mths_ex_med: 0.007614805310315163\n",
      "acc_now_delinq: 0.0034512919567039617\n",
      "tot_coll_amt: 205.44740580942832\n",
      "tot_cur_bal: 136880.27174496677\n",
      "open_rv_24m: 3.3185840707964602\n",
      "max_bal_bc: 5614.641592920354\n",
      "total_rev_hi_lim: 29435.476196359246\n",
      "term:  36 months\n",
      "grade: B\n",
      "sub_grade: B3\n",
      "emp_length: 10+ years\n",
      "home_ownership: MORTGAGE\n",
      "verification_status: Verified\n",
      "issue_d: 14-Oct\n",
      "loan_status: Fully Paid\n",
      "purpose: debt_consolidation\n",
      "addr_state: CA\n",
      "last_pymnt_d: 15-Dec\n",
      "last_credit_pull_d: 16-Jan\n",
      "application_type: INDIVIDUAL\n"
     ]
    }
   ],
   "source": [
    "from pyspark.sql.functions import mean\n",
    "for i in df.dtypes:\n",
    "    if i[1] != 'string':\n",
    "        fillmean = df.select(mean(i[0])).collect()[0][0]\n",
    "        df = df.na.fill(fillmean, subset=[i[0]])\n",
    "        print(i[0] + ': ' + str(fillmean))\n",
    "\n",
    "for i in df.dtypes:\n",
    "    if i[1] == 'string':\n",
    "        frequency = df.groupby(i[0]).count().sort('count', ascending = False).collect()[0][0]\n",
    "        df = df.na.fill(frequency, subset=[i[0]])\n",
    "        print(i[0] + ': ' + frequency)"
   ]
  },
  {
   "cell_type": "markdown",
   "metadata": {},
   "source": [
    "## 3.3 Construct the Data"
   ]
  },
  {
   "cell_type": "code",
   "execution_count": 7,
   "metadata": {},
   "outputs": [
    {
     "name": "stdout",
     "output_type": "stream",
     "text": [
      "+-----------+------+\n",
      "|loan_status|target|\n",
      "+-----------+------+\n",
      "|Charged Off|     0|\n",
      "|Charged Off|     0|\n",
      "|Charged Off|     0|\n",
      "| Fully Paid|     1|\n",
      "| Fully Paid|     1|\n",
      "+-----------+------+\n",
      "only showing top 5 rows\n",
      "\n"
     ]
    }
   ],
   "source": [
    "# create a binary target, with good loan = 1 and bad loan = 0\n",
    "from pyspark.sql.functions import when\n",
    "df = df.withColumn(\"target\", when(df[\"loan_status\"] == 'Fully Paid', 1).otherwise(0))\n",
    "df.select('loan_status','target').show(5)"
   ]
  },
  {
   "cell_type": "code",
   "execution_count": null,
   "metadata": {},
   "outputs": [],
   "source": []
  },
  {
   "cell_type": "markdown",
   "metadata": {},
   "source": [
    "## 4.1 Reduce the Data"
   ]
  },
  {
   "cell_type": "markdown",
   "metadata": {},
   "source": [
    "### Further reduce the data by removing duplicated columns"
   ]
  },
  {
   "cell_type": "code",
   "execution_count": 8,
   "metadata": {},
   "outputs": [
    {
     "name": "stdout",
     "output_type": "stream",
     "text": [
      "Columns left: 41\n"
     ]
    }
   ],
   "source": [
    "col_drop = ['funded_amnt','funded_amnt_inv','total_pymnt_inv','out_prncp_inv']\n",
    "df = df.drop(*col_drop)\n",
    "print('Columns left: ' + str(len(df.columns)))"
   ]
  },
  {
   "cell_type": "code",
   "execution_count": 9,
   "metadata": {},
   "outputs": [
    {
     "name": "stdout",
     "output_type": "stream",
     "text": [
      "No. of Observations:  274390\n",
      "No. of Attributes: 41\n"
     ]
    }
   ],
   "source": [
    "print('No. of Observations: ', df.count())\n",
    "print('No. of Attributes: ' + str(len(df.columns)))"
   ]
  },
  {
   "cell_type": "code",
   "execution_count": 12,
   "metadata": {},
   "outputs": [
    {
     "name": "stdout",
     "output_type": "stream",
     "text": [
      "['loan_amnt', 'term', 'int_rate', 'installment', 'grade', 'sub_grade', 'emp_length', 'home_ownership', 'annual_inc', 'verification_status', 'issue_d', 'loan_status', 'purpose', 'addr_state', 'dti', 'delinq_2yrs', 'inq_last_6mths', 'open_acc', 'pub_rec', 'revol_bal', 'revol_util', 'total_acc', 'out_prncp', 'total_pymnt', 'total_rec_prncp', 'total_rec_int', 'total_rec_late_fee', 'recoveries', 'collection_recovery_fee', 'last_pymnt_d', 'last_pymnt_amnt', 'last_credit_pull_d', 'collections_12_mths_ex_med', 'application_type', 'acc_now_delinq', 'tot_coll_amt', 'tot_cur_bal', 'open_rv_24m', 'max_bal_bc', 'total_rev_hi_lim', 'target']\n"
     ]
    }
   ],
   "source": [
    "print(df.columns)"
   ]
  },
  {
   "cell_type": "markdown",
   "metadata": {},
   "source": [
    "## 4.2 Project the Data"
   ]
  },
  {
   "cell_type": "code",
   "execution_count": null,
   "metadata": {},
   "outputs": [],
   "source": []
  },
  {
   "cell_type": "markdown",
   "metadata": {},
   "source": [
    "### 4.2.1 Rename Attributes"
   ]
  },
  {
   "cell_type": "code",
   "execution_count": 10,
   "metadata": {},
   "outputs": [
    {
     "name": "stdout",
     "output_type": "stream",
     "text": [
      "['loan_amnt', 'term', 'int_rate', 'installment', 'grade', 'sub_grade', 'emp_length', 'home_ownership', 'annual_inc', 'verification_status', 'issue_date', 'loan_status', 'purpose', 'state', 'monthly_payment_to_totaldebt', 'past_due_2years', 'inquery_6month', 'open_acc', 'public_record', 'revol_bal', 'revol_utilization', 'total_acc', 'out_prncp', 'total_pymnt', 'total_rec_prncp', 'total_rec_int', 'total_rec_late_fee', 'recoveries', 'collection_recovery_fee', 'last_pymnt_d', 'last_pymnt_amnt', 'last_credit_pull_d', 'collections_12_mths_ex_med', 'application_type', 'acc_now_delinq', 'collection_amnt', 'tot_cur_bal', 'revol_amnt_24month', 'max_bal_bc', 'total_credit_to_lim', 'target']\n"
     ]
    }
   ],
   "source": [
    "df = df.withColumnRenamed('addr_state', 'state')\n",
    "df = df.withColumnRenamed('issue_d', 'issue_date')\n",
    "df = df.withColumnRenamed('dti', 'monthly_payment_to_totaldebt')\n",
    "df = df.withColumnRenamed('delinq_2yrs', 'past_due_2years')\n",
    "df = df.withColumnRenamed('inq_last_6mths', 'inquery_6month')\n",
    "df = df.withColumnRenamed('pub_rec', 'public_record')\n",
    "df = df.withColumnRenamed('revol_util', 'revol_utilization')\n",
    "df = df.withColumnRenamed('tot_coll_amt', 'collection_amnt')\n",
    "df = df.withColumnRenamed('open_rv_24m', 'revol_amnt_24month')\n",
    "df = df.withColumnRenamed('open_rv_12m', 'revol_amnt_12month')\n",
    "df = df.withColumnRenamed('total_rev_hi_lim', 'total_credit_to_lim')\n",
    "print(df.columns)"
   ]
  },
  {
   "cell_type": "markdown",
   "metadata": {},
   "source": [
    "### 4.2.2 Proprecessing Categorical Data"
   ]
  },
  {
   "cell_type": "code",
   "execution_count": 11,
   "metadata": {},
   "outputs": [
    {
     "name": "stdout",
     "output_type": "stream",
     "text": [
      "Categorical attributes\n",
      "['term', 'grade', 'sub_grade', 'emp_length', 'home_ownership', 'verification_status', 'issue_date', 'purpose', 'state', 'last_pymnt_d', 'last_credit_pull_d', 'application_type']\n",
      "Numeric attributes\n",
      "['loan_amnt', 'int_rate', 'installment', 'annual_inc', 'monthly_payment_to_totaldebt', 'past_due_2years', 'inquery_6month', 'open_acc', 'public_record', 'revol_bal', 'revol_utilization', 'total_acc', 'out_prncp', 'total_pymnt', 'total_rec_prncp', 'total_rec_int', 'total_rec_late_fee', 'recoveries', 'collection_recovery_fee', 'last_pymnt_amnt', 'collections_12_mths_ex_med', 'acc_now_delinq', 'collection_amnt', 'tot_cur_bal', 'revol_amnt_24month', 'max_bal_bc', 'total_credit_to_lim', 'target']\n"
     ]
    }
   ],
   "source": [
    "# import pyspark ml\n",
    "from pyspark.ml.feature import VectorAssembler,VectorIndexer,OneHotEncoder,StringIndexer\n",
    "\n",
    "# obtain a list of categorical attributes\n",
    "labels = []\n",
    "for i in df.dtypes:\n",
    "    if (i[1] == 'string') & (i[0] != 'loan_status'):\n",
    "        labels.append(i[0])\n",
    "print('Categorical attributes')\n",
    "print(labels)\n",
    "\n",
    "# obtain a list of numeric attrributes\n",
    "numeric = []\n",
    "for i in df.dtypes:\n",
    "    if i[1] != 'string':\n",
    "        numeric.append(i[0])\n",
    "print('Numeric attributes')\n",
    "print(numeric)"
   ]
  },
  {
   "cell_type": "markdown",
   "metadata": {},
   "source": [
    "### Encode categorical attributes and combine categorical & numeric attributes "
   ]
  },
  {
   "cell_type": "code",
   "execution_count": 12,
   "metadata": {},
   "outputs": [],
   "source": [
    "from pyspark.ml.feature import VectorAssembler,VectorIndexer,OneHotEncoder,StringIndexer\n",
    "\n",
    "stages = []\n",
    "\n",
    "for label in labels:\n",
    "    stringIndexer = StringIndexer(inputCol = label, outputCol = label + 'Index')\n",
    "    encoder = OneHotEncoder(inputCol=stringIndexer.getOutputCol(), outputCol=(label + \"Vec\"))\n",
    "    stages += [stringIndexer, encoder]\n",
    "\n",
    "label_stringIdx = StringIndexer(inputCol = 'target', outputCol = 'label')\n",
    "stages += [label_stringIdx]\n",
    "\n",
    "\n",
    "assemblerInputs = [c + \"Vec\" for c in labels] + numeric\n",
    "assembler = VectorAssembler(inputCols=assemblerInputs, outputCol=\"features\")\n",
    "stages += [assembler]\n"
   ]
  },
  {
   "cell_type": "code",
   "execution_count": 13,
   "metadata": {},
   "outputs": [
    {
     "name": "stdout",
     "output_type": "stream",
     "text": [
      "+-----+--------------------+\n",
      "|label|            features|\n",
      "+-----+--------------------+\n",
      "|  1.0|(449,[2,14,43,52,...|\n",
      "|  1.0|(449,[1,12,43,52,...|\n",
      "|  1.0|(449,[0,2,9,43,52...|\n",
      "|  0.0|(449,[0,3,19,43,5...|\n",
      "|  0.0|(449,[0,1,7,43,52...|\n",
      "|  0.0|(449,[0,1,11,43,5...|\n",
      "|  0.0|(449,[0,1,8,43,53...|\n",
      "|  0.0|(449,[1,12,43,51,...|\n",
      "|  0.0|(449,[2,13,43,52,...|\n",
      "|  0.0|(449,[0,3,20,43,5...|\n",
      "+-----+--------------------+\n",
      "only showing top 10 rows\n",
      "\n"
     ]
    }
   ],
   "source": [
    "from pyspark.ml import Pipeline\n",
    "pipeline = Pipeline(stages = stages)\n",
    "pipelineModel = pipeline.fit(df)\n",
    "df = pipelineModel.transform(df)\n",
    "selectedCols = ['label', 'features']\n",
    "df = df.select(selectedCols)\n",
    "df.show(10)"
   ]
  },
  {
   "cell_type": "code",
   "execution_count": null,
   "metadata": {},
   "outputs": [],
   "source": []
  },
  {
   "cell_type": "markdown",
   "metadata": {},
   "source": [
    "# STEP 7 DATA MINING"
   ]
  },
  {
   "cell_type": "markdown",
   "metadata": {},
   "source": [
    "## Logistic regression"
   ]
  },
  {
   "cell_type": "code",
   "execution_count": 18,
   "metadata": {},
   "outputs": [
    {
     "name": "stdout",
     "output_type": "stream",
     "text": [
      "Training Set: 219573\n",
      "Test Set: 54817\n"
     ]
    }
   ],
   "source": [
    "from pyspark.ml.classification import LogisticRegression\n",
    "train, test = df.randomSplit([0.8,0.2], seed = 0)\n",
    "print(\"Training Set: \" + str(train.count()))\n",
    "print(\"Test Set: \" + str(test.count()))"
   ]
  },
  {
   "cell_type": "markdown",
   "metadata": {},
   "source": [
    "### Train the model"
   ]
  },
  {
   "cell_type": "code",
   "execution_count": 19,
   "metadata": {},
   "outputs": [],
   "source": [
    "from pyspark.ml.classification import LogisticRegression\n",
    "lr = LogisticRegression(featuresCol='features',labelCol='label', maxIter=10)\n",
    "mod = lr.fit(train)\n",
    "training_summary = mod.summary\n"
   ]
  },
  {
   "cell_type": "code",
   "execution_count": null,
   "metadata": {},
   "outputs": [],
   "source": []
  },
  {
   "cell_type": "code",
   "execution_count": null,
   "metadata": {},
   "outputs": [],
   "source": []
  },
  {
   "cell_type": "markdown",
   "metadata": {},
   "source": [
    "# STEP 8 INTERPRETATION"
   ]
  },
  {
   "cell_type": "code",
   "execution_count": 21,
   "metadata": {},
   "outputs": [
    {
     "data": {
      "image/png": "[encoded data removed]",
      "text/plain": [
       "<Figure size 432x288 with 1 Axes>"
      ]
     },
     "metadata": {},
     "output_type": "display_data"
    }
   ],
   "source": [
    "# if it does not run, try again and it will work\n",
    "\n",
    "import matplotlib.pyplot as plt\n",
    "import numpy as np\n",
    "\n",
    "# Visualising the coefficients\n",
    "beta = np.sort(mod.coefficients)\n",
    "plt.plot(beta)\n",
    "plt.ylabel('Beta Coefficients', fontsize = 12)\n",
    "plt.show()"
   ]
  },
  {
   "cell_type": "code",
   "execution_count": 22,
   "metadata": {},
   "outputs": [
    {
     "data": {
      "image/png": "[encoded data removed]",
      "text/plain": [
       "<Figure size 432x288 with 1 Axes>"
      ]
     },
     "metadata": {},
     "output_type": "display_data"
    }
   ],
   "source": [
    "training_summary = mod.summary\n",
    "objective_history = training_summary.objectiveHistory\n",
    "plt.plot(objective_history)\n",
    "plt.ylabel('Objective Function',fontsize=14)\n",
    "plt.xlabel('Iteration',fontsize=14)\n",
    "plt.show()"
   ]
  },
  {
   "cell_type": "code",
   "execution_count": 23,
   "metadata": {},
   "outputs": [
    {
     "data": {
      "image/png": "[encoded data removed]",
      "text/plain": [
       "<Figure size 432x288 with 1 Axes>"
      ]
     },
     "metadata": {},
     "output_type": "display_data"
    },
    {
     "name": "stdout",
     "output_type": "stream",
     "text": [
      "Training Area Under ROC: 0.99811145365966\n"
     ]
    }
   ],
   "source": [
    "# ROC curve\n",
    "roc = training_summary.roc.toPandas()\n",
    "plt.plot(roc['FPR'],roc['TPR'])\n",
    "plt.ylabel('False Positive Rate', fontsize = 12)\n",
    "plt.xlabel('True Positive Rate',fontsize = 12)\n",
    "plt.title('ROC Curve',size = 16)\n",
    "plt.show()\n",
    "print(\"Training Area Under ROC: \" + str(training_summary.areaUnderROC))"
   ]
  },
  {
   "cell_type": "code",
   "execution_count": 25,
   "metadata": {},
   "outputs": [
    {
     "data": {
      "image/png": "[encoded data removed]",
      "text/plain": [
       "<Figure size 432x288 with 1 Axes>"
      ]
     },
     "metadata": {},
     "output_type": "display_data"
    }
   ],
   "source": [
    "# Precision & Recall curve\n",
    "pr = training_summary.pr.toPandas()\n",
    "plt.plot(pr['recall'],pr['precision'])\n",
    "plt.ylabel('Precision', fontsize = 12)\n",
    "plt.xlabel('Recall', fontsize = 12)\n",
    "plt.show()"
   ]
  },
  {
   "cell_type": "code",
   "execution_count": null,
   "metadata": {},
   "outputs": [],
   "source": []
  },
  {
   "cell_type": "code",
   "execution_count": 26,
   "metadata": {},
   "outputs": [
    {
     "name": "stdout",
     "output_type": "stream",
     "text": [
      "+-----+--------------------+--------------------+--------------------+----------+\n",
      "|label|            features|       rawPrediction|         probability|prediction|\n",
      "+-----+--------------------+--------------------+--------------------+----------+\n",
      "|  0.0|(449,[0,1,7,41,51...|[13.6709994114224...|[0.99999884452676...|       0.0|\n",
      "|  0.0|(449,[0,1,7,41,51...|[16.7602866423375...|[0.99999994738616...|       0.0|\n",
      "|  0.0|(449,[0,1,7,41,51...|[11.7547092585016...|[0.99999214780235...|       0.0|\n",
      "|  0.0|(449,[0,1,7,41,51...|[10.2174561108178...|[0.99996347423431...|       0.0|\n",
      "|  0.0|(449,[0,1,7,41,51...|[20.8783477977725...|[0.99999999914365...|       0.0|\n",
      "|  0.0|(449,[0,1,7,41,51...|[6.80386312135544...|[0.99889174878402...|       0.0|\n",
      "|  0.0|(449,[0,1,7,41,51...|[10.4090004989997...|[0.99996984110514...|       0.0|\n",
      "|  0.0|(449,[0,1,7,41,51...|[15.3075584040856...|[0.99999977508845...|       0.0|\n",
      "|  0.0|(449,[0,1,7,41,51...|[13.2322233751555...|[0.99999820808408...|       0.0|\n",
      "|  0.0|(449,[0,1,7,41,51...|[10.8796906917085...|[0.99998116341424...|       0.0|\n",
      "|  0.0|(449,[0,1,7,41,51...|[11.4799375346288...|[0.99998966472617...|       0.0|\n",
      "|  0.0|(449,[0,1,7,41,51...|[6.07974417269837...|[0.99771646436396...|       0.0|\n",
      "|  0.0|(449,[0,1,7,41,51...|[8.28401990608027...|[0.99974754370018...|       0.0|\n",
      "|  0.0|(449,[0,1,7,41,51...|[10.1410725824746...|[0.99996057506241...|       0.0|\n",
      "|  0.0|(449,[0,1,7,41,51...|[18.2679459942289...|[0.99999998834984...|       0.0|\n",
      "|  0.0|(449,[0,1,7,41,51...|[14.6469588575900...|[0.99999956458197...|       0.0|\n",
      "|  0.0|(449,[0,1,7,41,51...|[19.6073116273782...|[0.99999999694752...|       0.0|\n",
      "|  0.0|(449,[0,1,7,41,51...|[10.0887969487159...|[0.99995845936653...|       0.0|\n",
      "|  0.0|(449,[0,1,7,41,51...|[24.5943992717573...|[0.99999999997916...|       0.0|\n",
      "|  0.0|(449,[0,1,7,41,51...|[7.04097726169404...|[0.99912549465341...|       0.0|\n",
      "+-----+--------------------+--------------------+--------------------+----------+\n",
      "only showing top 20 rows\n",
      "\n"
     ]
    }
   ],
   "source": [
    "# Evaluate the model using the test data.\n",
    "pred = mod.transform(test)\n",
    "pred.show()"
   ]
  },
  {
   "cell_type": "code",
   "execution_count": 27,
   "metadata": {},
   "outputs": [
    {
     "name": "stdout",
     "output_type": "stream",
     "text": [
      "Test Area Under ROC: 0.9983196349060921\n"
     ]
    }
   ],
   "source": [
    "from pyspark.ml.evaluation import BinaryClassificationEvaluator\n",
    "evaluator = BinaryClassificationEvaluator()\n",
    "print('Test Area Under ROC:', evaluator.evaluate(pred))"
   ]
  },
  {
   "cell_type": "code",
   "execution_count": null,
   "metadata": {},
   "outputs": [],
   "source": []
  }
 ],
 "metadata": {
  "kernelspec": {
   "display_name": "Python 3",
   "language": "python",
   "name": "python3"
  },
  "language_info": {
   "codemirror_mode": {
    "name": "ipython",
    "version": 3
   },
   "file_extension": ".py",
   "mimetype": "text/x-python",
   "name": "python",
   "nbconvert_exporter": "python",
   "pygments_lexer": "ipython3",
   "version": "3.5.2"
  }
 },
 "nbformat": 4,
 "nbformat_minor": 2
}
